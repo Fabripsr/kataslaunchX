{
 "cells": [
  {
   "cell_type": "markdown",
   "metadata": {},
   "source": [
    "## Crear un entorno virtual\n"
   ]
  },
  {
   "cell_type": "markdown",
   "metadata": {},
   "source": []
  },
  {
   "cell_type": "markdown",
   "metadata": {},
   "source": [
    "# # Creacion de un entorno virtual desde la terminal, en este caso use PowerShell"
   ]
  },
  {
   "cell_type": "markdown",
   "metadata": {},
   "source": [
    "![KATA2](Kata2.png)"
   ]
  },
  {
   "cell_type": "markdown",
   "metadata": {},
   "source": [
    "# # Una vez creado el entorno virtual debemos ejecutarlo, pero antes de la ejecución se deben dar permisos.\n",
    "# # Se ejecuta el powershell en modo administrador y posteriormente se ejecuta el comando:\n",
    "# # set-executionpolicy remotesigned"
   ]
  },
  {
   "cell_type": "markdown",
   "metadata": {},
   "source": [
    "![Permisos](permisos.png)"
   ]
  },
  {
   "cell_type": "markdown",
   "metadata": {},
   "source": [
    "# # Se \"enciende\" el ambiente virtual"
   ]
  },
  {
   "cell_type": "markdown",
   "metadata": {},
   "source": [
    "![ACTIVATE](activar.png)"
   ]
  },
  {
   "cell_type": "markdown",
   "metadata": {},
   "source": [
    "# # pip freeze comando para visualizar las librerias instaladas"
   ]
  },
  {
   "cell_type": "markdown",
   "metadata": {},
   "source": [
    "![ACTIVATE](freezer.png)"
   ]
  },
  {
   "cell_type": "markdown",
   "metadata": {},
   "source": [
    "# #  Instalacion de alguna libreria, por ejemplo scipy \n",
    "# # pip install scipy"
   ]
  },
  {
   "cell_type": "markdown",
   "metadata": {},
   "source": [
    "![ACTIVATE](instalando.png)"
   ]
  },
  {
   "cell_type": "markdown",
   "metadata": {},
   "source": [
    "# # Saliendo del entorno virtual\n",
    "# # deactivate"
   ]
  },
  {
   "cell_type": "markdown",
   "metadata": {},
   "source": [
    "![ACTIVATE](saliendo.png)"
   ]
  }
 ],
 "metadata": {
  "interpreter": {
   "hash": "170a0a99a0588700f1aa636d380e3ef705d296c95642208348afa8220751e1e7"
  },
  "kernelspec": {
   "display_name": "Python 3.10.2 ('Kata0': venv)",
   "language": "python",
   "name": "python3"
  },
  "language_info": {
   "name": "python",
   "version": "3.10.2"
  },
  "orig_nbformat": 4
 },
 "nbformat": 4,
 "nbformat_minor": 2
}
