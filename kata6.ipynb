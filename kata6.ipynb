{
 "cells": [
  {
   "cell_type": "markdown",
   "metadata": {},
   "source": [
    "## Kata 6\n",
    "## Fabricio Garcia"
   ]
  },
  {
   "cell_type": "markdown",
   "metadata": {},
   "source": [
    "## Ejercicio1: Crear y usar listas de Python"
   ]
  },
  {
   "cell_type": "code",
   "execution_count": 28,
   "metadata": {},
   "outputs": [
    {
     "name": "stdout",
     "output_type": "stream",
     "text": [
      "El numero de planetas es 8\n",
      "El último planeta es  Pluton\n"
     ]
    }
   ],
   "source": [
    "#Crear la lista de planetas y mostrarla\n",
    "planets=['Mercurio', 'Venus', 'Tierra', 'Marte', 'Jupiter', 'Saturno' ,'Urano', 'Neptuno']\n",
    "print(\"El numero de planetas es\"+\" \"+str(len(planets)))\n",
    "planets.append('Pluton')\n",
    "print(\"El último planeta es \"+\" \"+planets[-1])"
   ]
  },
  {
   "cell_type": "markdown",
   "metadata": {},
   "source": [
    "## Ejercicio 2: Trabajando con datos de una lista"
   ]
  },
  {
   "cell_type": "code",
   "execution_count": 29,
   "metadata": {},
   "outputs": [
    {
     "name": "stdout",
     "output_type": "stream",
     "text": [
      "La estrella mas cercana es el sol\n",
      "Los planetas más lejanos al Sol son Venus,Earth,Mars,Jupiter,Saturn,Uranus,Neptune\n"
     ]
    }
   ],
   "source": [
    "# Lista de planetas\n",
    "planets = ['Mercury', 'Venus', 'Earth', 'Mars', 'Jupiter', 'Saturn', 'Uranus', 'Neptune']\n",
    "# Solicita al usuario el nombre de un planeta\n",
    "user_planet=input(\"Escribe el nombre de un planeta en inglés empieza por mayúscula:\")\n",
    "# encuentra el planeta en la lista\n",
    "indice=planets.index(user_planet)\n",
    "# Mostrar planetas más cercanos al sol que el que el usuario ingresó\n",
    "\n",
    "\n",
    "if indice>0:\n",
    "    print (\"Los planetas cercanos al Sol son \"+' '+' ,'.join(planets[0:indice]))\n",
    "else:\n",
    "    print(\"La estrella mas cercana es el sol\")\n",
    "\n",
    "# Mostrar planetas más lejanos al sol que el que el usuario ingresó\n",
    "\n",
    "if indice==len(planets)-1:\n",
    "    print(\"Ya somos el planeta más lejano, solo falta Pluton\")\n",
    "else:\n",
    "    print(\"Los planetas más lejanos al Sol son\"+' '+','.join(planets[indice+1:len(planets)]))\n",
    "\n"
   ]
  }
 ],
 "metadata": {
  "interpreter": {
   "hash": "170a0a99a0588700f1aa636d380e3ef705d296c95642208348afa8220751e1e7"
  },
  "kernelspec": {
   "display_name": "Python 3.10.2 ('Kata0': venv)",
   "language": "python",
   "name": "python3"
  },
  "language_info": {
   "codemirror_mode": {
    "name": "ipython",
    "version": 3
   },
   "file_extension": ".py",
   "mimetype": "text/x-python",
   "name": "python",
   "nbconvert_exporter": "python",
   "pygments_lexer": "ipython3",
   "version": "3.10.2"
  },
  "orig_nbformat": 4
 },
 "nbformat": 4,
 "nbformat_minor": 2
}
