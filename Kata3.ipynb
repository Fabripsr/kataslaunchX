{
 "cells": [
  {
   "cell_type": "markdown",
   "metadata": {},
   "source": [
    "## Kata 3\n",
    "## Fabricio Garcia"
   ]
  },
  {
   "cell_type": "markdown",
   "metadata": {},
   "source": [
    "## Un asteroide se acerca a velocidad mayor de 25 km/s por lo que debe advertir"
   ]
  },
  {
   "cell_type": "code",
   "execution_count": 26,
   "metadata": {},
   "outputs": [
    {
     "name": "stdout",
     "output_type": "stream",
     "text": [
      "Alerta!! Alerta!!! Asteroide \n"
     ]
    }
   ],
   "source": [
    "velocidad_asteroide=40\n",
    "if velocidad_asteroide>25:\n",
    "    print(\"Alerta!! Alerta!!! Asteroide \")\n",
    "else:\n",
    "    print(\"No hay problema no pasa nada! Feliz día!\")"
   ]
  },
  {
   "cell_type": "markdown",
   "metadata": {},
   "source": [
    "## Un asteroide se acerca a una velocidad mayor de 20 km/s y menor a 25 km/s por lo que avisa\n",
    "## que se debe buscar en el cielo para ver la estela de luz"
   ]
  },
  {
   "cell_type": "code",
   "execution_count": 27,
   "metadata": {},
   "outputs": [
    {
     "name": "stdout",
     "output_type": "stream",
     "text": [
      "Hay un asteroide que se dirige a una velocidad de 19km/s. Continua con tu vida\n"
     ]
    }
   ],
   "source": [
    "velocidad_asteroide=19\n",
    "if velocidad_asteroide<=25 and velocidad_asteroide>=20:\n",
    "    print('Debes salir a ver el cielo, hay una estela de luz!!!!')\n",
    "elif velocidad_asteroide>25:\n",
    "    print('Alerta!!! Asteroide se aproxima')\n",
    "else:\n",
    "    print('Hay un asteroide que se dirige a una velocidad de '+str(velocidad_asteroide)+'km/s. Continua con tu vida')\n"
   ]
  },
  {
   "cell_type": "markdown",
   "metadata": {},
   "source": [
    "## Uso de operadores and/or"
   ]
  },
  {
   "cell_type": "code",
   "execution_count": 28,
   "metadata": {},
   "outputs": [
    {
     "name": "stdout",
     "output_type": "stream",
     "text": [
      "Sigue tu vida\n"
     ]
    }
   ],
   "source": [
    "dimension=10\n",
    "velocidad_asteroide=1\n",
    "# si la velocidad es mayor a 25 m/s o la dimension mayor 25 y menor a 1000 metros, entonces causara dano\n",
    "if velocidad_asteroide>25 or dimension>=25 and dimension<1000:\n",
    "    print(\"PELIGRO!! PELIGRO!! Asteroide causará daño\")\n",
    "elif dimension>=1000:#agregar un condicional que sería en caso de que la dimension fuera mayor a 1000 sera extinción\n",
    "    print(\"Don't look up!!!! Extinción\")\n",
    "elif velocidad_asteroide<=25 and velocidad_asteroide>=20:\n",
    "    print(\"Debes salir a ver el cielo, hay una estela de Luz!!!!\")\n",
    "else:\n",
    "    print(\"Sigue tu vida\")"
   ]
  }
 ],
 "metadata": {
  "interpreter": {
   "hash": "3a063cb584ec0787a578fe376a96882b3d931f0c2f5ba9fedb046a5d248ffe7e"
  },
  "kernelspec": {
   "display_name": "Python 3.10.2 ('Kata1': venv)",
   "language": "python",
   "name": "python3"
  },
  "language_info": {
   "codemirror_mode": {
    "name": "ipython",
    "version": 3
   },
   "file_extension": ".py",
   "mimetype": "text/x-python",
   "name": "python",
   "nbconvert_exporter": "python",
   "pygments_lexer": "ipython3",
   "version": "3.10.2"
  },
  "orig_nbformat": 4
 },
 "nbformat": 4,
 "nbformat_minor": 2
}
