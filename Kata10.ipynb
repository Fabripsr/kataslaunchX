{
 "cells": [
  {
   "cell_type": "markdown",
   "metadata": {},
   "source": [
    "# # Kata 10 \n",
    "# # Fabricio García Ramírez\n",
    "# # Manejo de Errores"
   ]
  },
  {
   "cell_type": "code",
   "execution_count": 15,
   "metadata": {},
   "outputs": [
    {
     "name": "stdout",
     "output_type": "stream",
     "text": [
      "El archivo config.txt no existe\n"
     ]
    }
   ],
   "source": [
    "## Control de Excepciones, try and except\n",
    "try:\n",
    "    open('config.txt')\n",
    "except FileNotFoundError:\n",
    "    print(\"El archivo config.txt no existe\")"
   ]
  },
  {
   "cell_type": "code",
   "execution_count": null,
   "metadata": {},
   "outputs": [
    {
     "name": "stdout",
     "output_type": "stream",
     "text": [
      "Aun eres un padawan Anakin\n"
     ]
    }
   ],
   "source": [
    "# # Manejo de errores por permisos\n",
    "def principal():\n",
    "    try:\n",
    "        configuration=open('config.txt')\n",
    "    except FileNotFoundError:\n",
    "        print(\"El archivo no existe\")\n",
    "    except IsADirectoryError:\n",
    "        print(\"Archivo es un directorio, no es posible leerlo\")\n",
    "    except PermissionError:\n",
    "        print(\"Aun eres un padawan Anakin\")\n",
    "principal()"
   ]
  },
  {
   "cell_type": "code",
   "execution_count": null,
   "metadata": {},
   "outputs": [
    {
     "name": "stdout",
     "output_type": "stream",
     "text": [
      "Hay un error al encontrar el archivo: [Errno 2] No such file or directory: 'imagen.png'\n"
     ]
    }
   ],
   "source": [
    "# # Manejo de excepciones como si fueran variables\n",
    "try:\n",
    "    open(\"imagen.png\")\n",
    "except FileNotFoundError as error:\n",
    "    print(\"Hay un error al encontrar el archivo:\", error)\n"
   ]
  },
  {
   "cell_type": "code",
   "execution_count": null,
   "metadata": {},
   "outputs": [
    {
     "name": "stdout",
     "output_type": "stream",
     "text": [
      "El archivo existe pero no es posible leerlo\n"
     ]
    }
   ],
   "source": [
    "try: \n",
    "    open(\"config.txt\")\n",
    "except OSError as error:\n",
    "    if error.errno==2:\n",
    "        print(\"No es posible encontrar el archivo\")\n",
    "    elif error.errno==13:\n",
    "        print(\"El archivo existe pero no es posible leerlo\")"
   ]
  },
  {
   "cell_type": "markdown",
   "metadata": {},
   "source": [
    "# # Generación de Excepciones"
   ]
  },
  {
   "cell_type": "code",
   "execution_count": null,
   "metadata": {},
   "outputs": [
    {
     "ename": "RuntimeError",
     "evalue": "There is not enough water for 3 astronauts after 100 days!",
     "output_type": "error",
     "traceback": [
      "\u001b[1;31m---------------------------------------------------------------------------\u001b[0m",
      "\u001b[1;31mRuntimeError\u001b[0m                              Traceback (most recent call last)",
      "\u001b[1;32mc:\\Users\\gr_ft\\Documents\\LaunchXMicrosoft\\Kata1\\Kata10.ipynb Cell 3'\u001b[0m in \u001b[0;36m<module>\u001b[1;34m\u001b[0m\n\u001b[0;32m     <a href='vscode-notebook-cell:/c%3A/Users/gr_ft/Documents/LaunchXMicrosoft/Kata1/Kata10.ipynb#ch0000003?line=13'>14</a>\u001b[0m         \u001b[39mraise\u001b[39;00m \u001b[39mRuntimeError\u001b[39;00m(\u001b[39mf\u001b[39m\u001b[39m\"\u001b[39m\u001b[39mThere is not enough water for \u001b[39m\u001b[39m{\u001b[39;00mastronauts\u001b[39m}\u001b[39;00m\u001b[39m astronauts after \u001b[39m\u001b[39m{\u001b[39;00mdays_left\u001b[39m}\u001b[39;00m\u001b[39m days!\u001b[39m\u001b[39m\"\u001b[39m)\n\u001b[0;32m     <a href='vscode-notebook-cell:/c%3A/Users/gr_ft/Documents/LaunchXMicrosoft/Kata1/Kata10.ipynb#ch0000003?line=14'>15</a>\u001b[0m     \u001b[39mreturn\u001b[39;00m \u001b[39mf\u001b[39m\u001b[39m\"\u001b[39m\u001b[39mTotal water left after \u001b[39m\u001b[39m{\u001b[39;00mdays_left\u001b[39m}\u001b[39;00m\u001b[39m days is: \u001b[39m\u001b[39m{\u001b[39;00mtotal_water_left\u001b[39m}\u001b[39;00m\u001b[39m liters\u001b[39m\u001b[39m\"\u001b[39m\n\u001b[1;32m---> <a href='vscode-notebook-cell:/c%3A/Users/gr_ft/Documents/LaunchXMicrosoft/Kata1/Kata10.ipynb#ch0000003?line=15'>16</a>\u001b[0m water_left(\u001b[39m3\u001b[39;49m, \u001b[39m200\u001b[39;49m, \u001b[39m100\u001b[39;49m)\n",
      "\u001b[1;32mc:\\Users\\gr_ft\\Documents\\LaunchXMicrosoft\\Kata1\\Kata10.ipynb Cell 3'\u001b[0m in \u001b[0;36mwater_left\u001b[1;34m(astronauts, water_left, days_left)\u001b[0m\n\u001b[0;32m     <a href='vscode-notebook-cell:/c%3A/Users/gr_ft/Documents/LaunchXMicrosoft/Kata1/Kata10.ipynb#ch0000003?line=11'>12</a>\u001b[0m total_water_left \u001b[39m=\u001b[39m water_left \u001b[39m-\u001b[39m total_usage\n\u001b[0;32m     <a href='vscode-notebook-cell:/c%3A/Users/gr_ft/Documents/LaunchXMicrosoft/Kata1/Kata10.ipynb#ch0000003?line=12'>13</a>\u001b[0m \u001b[39mif\u001b[39;00m total_water_left \u001b[39m<\u001b[39m \u001b[39m0\u001b[39m:\n\u001b[1;32m---> <a href='vscode-notebook-cell:/c%3A/Users/gr_ft/Documents/LaunchXMicrosoft/Kata1/Kata10.ipynb#ch0000003?line=13'>14</a>\u001b[0m     \u001b[39mraise\u001b[39;00m \u001b[39mRuntimeError\u001b[39;00m(\u001b[39mf\u001b[39m\u001b[39m\"\u001b[39m\u001b[39mThere is not enough water for \u001b[39m\u001b[39m{\u001b[39;00mastronauts\u001b[39m}\u001b[39;00m\u001b[39m astronauts after \u001b[39m\u001b[39m{\u001b[39;00mdays_left\u001b[39m}\u001b[39;00m\u001b[39m days!\u001b[39m\u001b[39m\"\u001b[39m)\n\u001b[0;32m     <a href='vscode-notebook-cell:/c%3A/Users/gr_ft/Documents/LaunchXMicrosoft/Kata1/Kata10.ipynb#ch0000003?line=14'>15</a>\u001b[0m \u001b[39mreturn\u001b[39;00m \u001b[39mf\u001b[39m\u001b[39m\"\u001b[39m\u001b[39mTotal water left after \u001b[39m\u001b[39m{\u001b[39;00mdays_left\u001b[39m}\u001b[39;00m\u001b[39m days is: \u001b[39m\u001b[39m{\u001b[39;00mtotal_water_left\u001b[39m}\u001b[39;00m\u001b[39m liters\u001b[39m\u001b[39m\"\u001b[39m\n",
      "\u001b[1;31mRuntimeError\u001b[0m: There is not enough water for 3 astronauts after 100 days!"
     ]
    }
   ],
   "source": [
    "def water_left(astronauts, water_left, days_left):\n",
    "    for argument in [astronauts, water_left, days_left]:\n",
    "        try:\n",
    "            # If argument is an int, the following operation will work\n",
    "            argument / 10\n",
    "        except TypeError:\n",
    "            # TypError will be raised only if it isn't the right type \n",
    "            # Raise the same exception but with a better error message\n",
    "            raise TypeError(f\"All arguments must be of type int, but received: '{argument}'\")\n",
    "    daily_usage = astronauts * 11\n",
    "    total_usage = daily_usage * days_left\n",
    "    total_water_left = water_left - total_usage\n",
    "    if total_water_left < 0:\n",
    "        raise RuntimeError(f\"There is not enough water for {astronauts} astronauts after {days_left} days!\")\n",
    "    return f\"Total water left after {days_left} days is: {total_water_left} liters\"\n",
    "water_left(\"3\", \"200\", None)"
   ]
  }
 ],
 "metadata": {
  "interpreter": {
   "hash": "170a0a99a0588700f1aa636d380e3ef705d296c95642208348afa8220751e1e7"
  },
  "kernelspec": {
   "display_name": "Python 3.10.2 ('Kata0': venv)",
   "language": "python",
   "name": "python3"
  },
  "language_info": {
   "codemirror_mode": {
    "name": "ipython",
    "version": 3
   },
   "file_extension": ".py",
   "mimetype": "text/x-python",
   "name": "python",
   "nbconvert_exporter": "python",
   "pygments_lexer": "ipython3",
   "version": "3.10.2"
  },
  "orig_nbformat": 4
 },
 "nbformat": 4,
 "nbformat_minor": 2
}
