{
 "cells": [
  {
   "cell_type": "markdown",
   "metadata": {},
   "source": [
    "# # Kata 9\n",
    "# # Fabricio García Ramírez\n",
    "# #  Ejercicio: Uso de funciones en Python"
   ]
  },
  {
   "cell_type": "code",
   "execution_count": 10,
   "metadata": {},
   "outputs": [
    {
     "name": "stdout",
     "output_type": "stream",
     "text": [
      " Reporte de combustible\n",
      "    Promedio total: 70.33333333333333 %\n",
      "    Tanque principal: 80.0%\n",
      "    Tanque externo: 70.1%\n",
      "    Tanque emergencia: 60.9%\n",
      "    \n"
     ]
    }
   ],
   "source": [
    "# Función para leer 3 tanques de combustible y muestre el promedio\n",
    "def reporte(tanque_principal, tanque_externo,tanque_emergencia):\n",
    "    promedio=(tanque_emergencia+tanque_externo+tanque_principal)/3\n",
    "    return f\"\"\" Reporte de combustible\n",
    "    Promedio total: {promedio} %\n",
    "    Tanque principal: {tanque_principal}%\n",
    "    Tanque externo: {tanque_externo}%\n",
    "    Tanque emergencia: {tanque_emergencia}%\n",
    "    \"\"\"\n",
    "# Llamamos a la función que genera el reporte print(funcion(tanque1, tanque2, tanque3))\n",
    "print(reporte(80.0,70.1,60.9))"
   ]
  },
  {
   "cell_type": "markdown",
   "metadata": {},
   "source": [
    "# # C4rear una funcion promedio  que permita mejorar la legibilidad"
   ]
  },
  {
   "cell_type": "code",
   "execution_count": 11,
   "metadata": {},
   "outputs": [
    {
     "data": {
      "text/plain": [
       "82.0"
      ]
     },
     "execution_count": 11,
     "metadata": {},
     "output_type": "execute_result"
    }
   ],
   "source": [
    "# Función promedio, recibe un arreglo\n",
    "def promedio(valores):\n",
    "    return sum(valores)/len(valores)\n",
    "promedio([80, 85, 81]) "
   ]
  },
  {
   "cell_type": "code",
   "execution_count": 12,
   "metadata": {},
   "outputs": [
    {
     "name": "stdout",
     "output_type": "stream",
     "text": [
      " Reporte de combustible\n",
      "    Promedio total: 70.33333333333333 %\n",
      "    Tanque principal: 80.0%\n",
      "    Tanque externo: 70.1%\n",
      "    Tanque emergencia: 60.9%\n",
      "    \n"
     ]
    }
   ],
   "source": [
    "# Actualiza la función\n",
    "# Función para leer 3 tanques de combustible y muestre el promedio\n",
    "def reporte(tanque_principal, tanque_externo,tanque_emergencia):\n",
    "    pro=promedio([tanque_principal,tanque_externo,tanque_emergencia])\n",
    "    return f\"\"\" Reporte de combustible\n",
    "    Promedio total: {pro} %\n",
    "    Tanque principal: {tanque_principal}%\n",
    "    Tanque externo: {tanque_externo}%\n",
    "    Tanque emergencia: {tanque_emergencia}%\n",
    "    \"\"\"\n",
    "# Llamamos a la función que genera el reporte print(funcion(tanque1, tanque2, tanque3))\n",
    "print(reporte(80.0,70.1,60.9))"
   ]
  },
  {
   "cell_type": "markdown",
   "metadata": {},
   "source": [
    "# # Ejercicio 2: Trabajo con argumentos de palabra clave"
   ]
  },
  {
   "cell_type": "code",
   "execution_count": 13,
   "metadata": {},
   "outputs": [
    {
     "name": "stdout",
     "output_type": "stream",
     "text": [
      "Mision a Moon\n",
      "    Tiempo de viaje:65 minutos\n",
      "    Combustible total:500000\n",
      "    \n"
     ]
    }
   ],
   "source": [
    "# # Función con un informe preciso de la misión. Considera hora de prelanzamiento, tiempo de vuelo, destino, \n",
    "def reporte_mision(hora_prelanzamiento,tiempo_vuelo,destino,tanque_externo,tanque_principal):\n",
    "    return f\"\"\"Mision a {destino}\n",
    "    Tiempo de viaje:{hora_prelanzamiento+tiempo_vuelo} minutos\n",
    "    Combustible total:{tanque_externo+tanque_principal}\n",
    "    \"\"\"\n",
    "print(reporte_mision(14, 51, \"Moon\", 200000, 300000))"
   ]
  },
  {
   "cell_type": "code",
   "execution_count": 14,
   "metadata": {},
   "outputs": [
    {
     "name": "stdout",
     "output_type": "stream",
     "text": [
      "Mision a Moon\n",
      "    Tiempo de viaje:76 minutos\n",
      "    Combustible total:500000\n",
      "    \n"
     ]
    }
   ],
   "source": [
    "# Escribe tu nueva función de reporte considerando lo anterior\n",
    "\n",
    "def reporte_mision(destino, *minutos,**reservas):\n",
    "    return f\"\"\"Mision a {destino}\n",
    "    Tiempo de viaje:{sum(minutos)} minutos\n",
    "    Combustible total:{sum(reservas.values())}\n",
    "    \"\"\"\n",
    "print(reporte_mision(\"Moon\", 10, 15, 51, main=300000, external=200000))"
   ]
  },
  {
   "cell_type": "code",
   "execution_count": 15,
   "metadata": {},
   "outputs": [
    {
     "name": "stdout",
     "output_type": "stream",
     "text": [
      "Mision a Moon\n",
      "    Tiempo de viaje:76 minutos\n",
      "    Combustible total:500000\n",
      "    main tank --> 300000 gallons sobrantes \n",
      "external tank --> 200000 gallons sobrantes \n",
      "\n"
     ]
    }
   ],
   "source": [
    "# Escribe tu nueva función\n",
    "def reporte_mision(destino, *minutos,**reservas):\n",
    "    reporte_principal= f\"\"\"Mision a {destino}\n",
    "    Tiempo de viaje:{sum(minutos)} minutos\n",
    "    Combustible total:{sum(reservas.values())}\n",
    "    \"\"\"\n",
    "    for tank_name, gallons in reservas.items():\n",
    "        reporte_principal+=f\"{tank_name} tank --> {gallons} gallons sobrantes \\n\"\n",
    "    return reporte_principal\n",
    "print(reporte_mision(\"Moon\", 10, 15, 51, main=300000, external=200000))"
   ]
  }
 ],
 "metadata": {
  "interpreter": {
   "hash": "170a0a99a0588700f1aa636d380e3ef705d296c95642208348afa8220751e1e7"
  },
  "kernelspec": {
   "display_name": "Python 3.10.2 ('Kata0': venv)",
   "language": "python",
   "name": "python3"
  },
  "language_info": {
   "codemirror_mode": {
    "name": "ipython",
    "version": 3
   },
   "file_extension": ".py",
   "mimetype": "text/x-python",
   "name": "python",
   "nbconvert_exporter": "python",
   "pygments_lexer": "ipython3",
   "version": "3.10.2"
  },
  "orig_nbformat": 4
 },
 "nbformat": 4,
 "nbformat_minor": 2
}
